{
 "cells": [
  {
   "cell_type": "code",
   "execution_count": 1,
   "metadata": {
    "collapsed": true
   },
   "outputs": [],
   "source": [
    "#!/bin/python2\n",
    "\n",
    "# Python\n",
    "import os\n",
    "import sys\n",
    "# Numpy\n",
    "import numpy as np\n",
    "\n",
    "# Matplotlib\n",
    "import matplotlib.pyplot as plt\n",
    "\n",
    "# Caffe\n",
    "CAFFE_ROOT = '/home/osboxes/Documents/caffe'\n",
    "sys.path.insert(0, os.path.join(CAFFE_ROOT, 'python'))\n",
    "import caffe"
   ]
  },
  {
   "cell_type": "code",
   "execution_count": 5,
   "metadata": {},
   "outputs": [],
   "source": [
    "# ***************** Configuration ********************\n",
    "caffe.set_mode_cpu()\n",
    "RESOURCES = '/home/osboxes/Documents/state-farm-distracted-driver-detection/caffe-examples/resources' \n",
    "# NET_FILE = os.path.abspath(os.path.join('resources', 'example-net.prototxt'))\n",
    "SOLVER_FILE = os.path.abspath(os.path.join(RESOURCES, 'solver.prototxt'))\n",
    "# ****************************************************"
   ]
  },
  {
   "cell_type": "code",
   "execution_count": 3,
   "metadata": {},
   "outputs": [],
   "source": [
    "# set display defaults\n",
    "plt.rcParams['image.interpolation'] = 'nearest'  # don't interpolate: show square pixels\n",
    "plt.rcParams['image.cmap'] = 'gray'  # use grayscale output rather than a (potentially misleading) color heatmap\n",
    "\n",
    "# assert os.path.exists(NET_FILE), \"Net definition file is not found\"\n",
    "assert os.path.exists(SOLVER_FILE), \"Net definition file is not found\"\n",
    "\n",
    "# net = caffe.Net(NET_FILE, caffe.TRAIN)\n",
    "solver = caffe.SGDSolver(SOLVER_FILE)"
   ]
  },
  {
   "cell_type": "code",
   "execution_count": null,
   "metadata": {},
   "outputs": [],
   "source": [
    "# each output is (batch size, feature dim, spatial dim)\n",
    "print [(k, v.data.shape) for k, v in solver.net.blobs.items()]\n",
    "\n",
    "# just print the weight sizes (we'll omit the biases)\n",
    "print [(k, v[0].data.shape) for k, v in solver.net.params.items()]"
   ]
  },
  {
   "cell_type": "code",
   "execution_count": null,
   "metadata": {},
   "outputs": [],
   "source": [
    "solver.net.forward()  # train net\n",
    "solver.test_nets[0].forward()  # test net (there can be more than one)"
   ]
  }
 ],
 "metadata": {
  "kernelspec": {
   "display_name": "Python 2",
   "language": "python",
   "name": "python2"
  },
  "language_info": {
   "codemirror_mode": {
    "name": "ipython",
    "version": 2.0
   },
   "file_extension": ".py",
   "mimetype": "text/x-python",
   "name": "python",
   "nbconvert_exporter": "python",
   "pygments_lexer": "ipython2",
   "version": "2.7.6"
  }
 },
 "nbformat": 4,
 "nbformat_minor": 0
}